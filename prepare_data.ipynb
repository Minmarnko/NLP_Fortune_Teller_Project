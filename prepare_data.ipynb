{
 "cells": [
  {
   "cell_type": "code",
   "execution_count": 7,
   "id": "283f8aaf",
   "metadata": {},
   "outputs": [
    {
     "name": "stderr",
     "output_type": "stream",
     "text": [
      "c:\\Users\\Jue\\Desktop\\NLP_Final_Project\\.venv\\Lib\\site-packages\\tqdm\\auto.py:21: TqdmWarning: IProgress not found. Please update jupyter and ipywidgets. See https://ipywidgets.readthedocs.io/en/stable/user_install.html\n",
      "  from .autonotebook import tqdm as notebook_tqdm\n"
     ]
    }
   ],
   "source": [
    "# Import Library\n",
    "import pandas as pd\n",
    "import glob\n",
    "import os\n",
    "from transformers import AutoTokenizer, AutoModelForSequenceClassification\n",
    "import torch\n",
    "import torch.nn.functional as F\n",
    "from tqdm import tqdm\n"
   ]
  },
  {
   "cell_type": "code",
   "execution_count": 5,
   "id": "03212529",
   "metadata": {},
   "outputs": [
    {
     "name": "stdout",
     "output_type": "stream",
     "text": [
      "All files combined and saved as 'tarot_readings_combined.csv'\n"
     ]
    }
   ],
   "source": [
    "# Directory where your files are located\n",
    "data_dir = \"data\"\n",
    "\n",
    "# Find all the final CSVs in the folder\n",
    "file_paths = glob.glob(os.path.join(data_dir, \"tarot_readings_*_final.csv\"))\n",
    "\n",
    "# Empty list to store DataFrames\n",
    "dataframes = []\n",
    "\n",
    "# Loop through files and load them with category name\n",
    "for file_path in file_paths:\n",
    "    df = pd.read_csv(file_path)\n",
    "    \n",
    "    # Extract category from filename\n",
    "    filename = os.path.basename(file_path)\n",
    "    category = filename.split('_')[2]  # Assumes the format tarot_readings_<category>_final.csv\n",
    "    df[\"category\"] = category\n",
    "    \n",
    "    dataframes.append(df)\n",
    "\n",
    "# Concatenate all DataFrames\n",
    "combined_df = pd.concat(dataframes, ignore_index=True)\n",
    "\n",
    "#drop the category column\n",
    "df = combined_df.drop('category', axis=1)\n",
    "\n",
    "# Save to a new CSV\n",
    "df.to_csv(\"tarot_readings_combined.csv\", index=False)\n",
    "\n",
    "print(\"All files combined and saved as 'tarot_readings_combined.csv'\")\n"
   ]
  },
  {
   "cell_type": "code",
   "execution_count": 6,
   "id": "661c526f",
   "metadata": {},
   "outputs": [
    {
     "data": {
      "text/plain": [
       "Index(['zodiac', 'question', 'card1', 'card2', 'card3', 'reading'], dtype='object')"
      ]
     },
     "execution_count": 6,
     "metadata": {},
     "output_type": "execute_result"
    }
   ],
   "source": [
    "df.columns"
   ]
  },
  {
   "cell_type": "code",
   "execution_count": 8,
   "id": "ea2d8ddb",
   "metadata": {},
   "outputs": [
    {
     "name": "stderr",
     "output_type": "stream",
     "text": [
      "c:\\Users\\Jue\\Desktop\\NLP_Final_Project\\.venv\\Lib\\site-packages\\huggingface_hub\\file_download.py:144: UserWarning: `huggingface_hub` cache-system uses symlinks by default to efficiently store duplicated files but your machine does not support them in C:\\Users\\Jue\\.cache\\huggingface\\hub\\models--cardiffnlp--twitter-roberta-base-sentiment. Caching files will still work but in a degraded version that might require more space on your disk. This warning can be disabled by setting the `HF_HUB_DISABLE_SYMLINKS_WARNING` environment variable. For more details, see https://huggingface.co/docs/huggingface_hub/how-to-cache#limitations.\n",
      "To support symlinks on Windows, you either need to activate Developer Mode or to run Python as an administrator. In order to activate developer mode, see this article: https://docs.microsoft.com/en-us/windows/apps/get-started/enable-your-device-for-development\n",
      "  warnings.warn(message)\n",
      "Xet Storage is enabled for this repo, but the 'hf_xet' package is not installed. Falling back to regular HTTP download. For better performance, install the package with: `pip install huggingface_hub[hf_xet]` or `pip install hf_xet`\n"
     ]
    },
    {
     "name": "stderr",
     "output_type": "stream",
     "text": [
      "Xet Storage is enabled for this repo, but the 'hf_xet' package is not installed. Falling back to regular HTTP download. For better performance, install the package with: `pip install huggingface_hub[hf_xet]` or `pip install hf_xet`\n"
     ]
    }
   ],
   "source": [
    "# Load 3-class sentiment model\n",
    "model_name = \"cardiffnlp/twitter-roberta-base-sentiment\"\n",
    "tokenizer = AutoTokenizer.from_pretrained(model_name)\n",
    "model = AutoModelForSequenceClassification.from_pretrained(model_name)\n",
    "\n",
    "# Sentiment labels\n",
    "labels = ['negative', 'neutral', 'positive']\n",
    "\n",
    "# Sentiment function\n",
    "def get_sentiment(text):\n",
    "    try:\n",
    "        # Tokenize\n",
    "        inputs = tokenizer(text, return_tensors=\"pt\", truncation=True, max_length=512)\n",
    "        # Get model output\n",
    "        with torch.no_grad():\n",
    "            outputs = model(**inputs)\n",
    "            probs = F.softmax(outputs.logits, dim=1)\n",
    "            pred = torch.argmax(probs, dim=1).item()\n",
    "        return labels[pred]\n",
    "    except Exception as e:\n",
    "        return \"neutral\"  # fallback for any errors"
   ]
  },
  {
   "cell_type": "code",
   "execution_count": 10,
   "id": "76323918",
   "metadata": {},
   "outputs": [],
   "source": [
    "# Load your dataset\n",
    "df = pd.read_csv(\"tarot_readings_combined.csv\")  # Adjust path if needed\n"
   ]
  },
  {
   "cell_type": "code",
   "execution_count": 11,
   "id": "4bd24e03",
   "metadata": {},
   "outputs": [
    {
     "name": "stderr",
     "output_type": "stream",
     "text": [
      "100%|██████████| 11990/11990 [29:54<00:00,  6.68it/s]\n",
      "100%|██████████| 11990/11990 [12:27<00:00, 16.05it/s]\n"
     ]
    }
   ],
   "source": [
    "# Run sentiment analysis with progress bar\n",
    "tqdm.pandas()\n",
    "\n",
    "df[\"question_sentiment\"] = df[\"question\"].progress_apply(get_sentiment)\n",
    "df[\"reading_sentiment\"] = df[\"reading\"].progress_apply(get_sentiment)\n"
   ]
  },
  {
   "cell_type": "code",
   "execution_count": 12,
   "id": "5a692bcd",
   "metadata": {},
   "outputs": [
    {
     "name": "stdout",
     "output_type": "stream",
     "text": [
      "✅ Sentiment analysis complete! Saved as 'tarot_readings_with_sentiments.csv'\n"
     ]
    }
   ],
   "source": [
    "df.to_csv(\"tarot_readings_with_sentiments.csv\", index=False)\n",
    "print(\"✅ Sentiment analysis complete! Saved as 'tarot_readings_with_sentiments.csv'\")"
   ]
  },
  {
   "cell_type": "code",
   "execution_count": null,
   "id": "1a0a4759",
   "metadata": {},
   "outputs": [],
   "source": []
  }
 ],
 "metadata": {
  "kernelspec": {
   "display_name": ".venv",
   "language": "python",
   "name": "python3"
  },
  "language_info": {
   "codemirror_mode": {
    "name": "ipython",
    "version": 3
   },
   "file_extension": ".py",
   "mimetype": "text/x-python",
   "name": "python",
   "nbconvert_exporter": "python",
   "pygments_lexer": "ipython3",
   "version": "3.11.9"
  }
 },
 "nbformat": 4,
 "nbformat_minor": 5
}
