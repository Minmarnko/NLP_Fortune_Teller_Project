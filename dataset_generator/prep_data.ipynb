{
 "cells": [
  {
   "cell_type": "code",
   "execution_count": 3,
   "id": "4d944f9d",
   "metadata": {},
   "outputs": [
    {
     "name": "stdout",
     "output_type": "stream",
     "text": [
      "CSV files merged successfully into 'merged_output.csv'\n"
     ]
    }
   ],
   "source": [
    "import pandas as pd\n",
    "import os\n",
    "import glob\n",
    "\n",
    "# Set the folder path where your CSV files are located\n",
    "folder_path = r'C:\\Users\\Jue\\Desktop\\NLP_Fortune_Teller_Project\\data_sem'\n",
    "\n",
    "# Get all CSV file paths in the folder\n",
    "csv_files = glob.glob(os.path.join(folder_path, '*.csv'))\n",
    "\n",
    "# Read and concatenate all CSV files\n",
    "merged_df = pd.concat([pd.read_csv(file) for file in csv_files], ignore_index=True)\n",
    "\n",
    "# Save the merged file\n",
    "merged_df.to_csv('merged_output.csv', index=False)\n",
    "\n",
    "print(\"CSV files merged successfully into 'merged_output.csv'\")\n"
   ]
  },
  {
   "cell_type": "code",
   "execution_count": 4,
   "id": "d6472ed6",
   "metadata": {},
   "outputs": [
    {
     "data": {
      "text/html": [
       "<div>\n",
       "<style scoped>\n",
       "    .dataframe tbody tr th:only-of-type {\n",
       "        vertical-align: middle;\n",
       "    }\n",
       "\n",
       "    .dataframe tbody tr th {\n",
       "        vertical-align: top;\n",
       "    }\n",
       "\n",
       "    .dataframe thead th {\n",
       "        text-align: right;\n",
       "    }\n",
       "</style>\n",
       "<table border=\"1\" class=\"dataframe\">\n",
       "  <thead>\n",
       "    <tr style=\"text-align: right;\">\n",
       "      <th></th>\n",
       "      <th>reading</th>\n",
       "    </tr>\n",
       "  </thead>\n",
       "  <tbody>\n",
       "    <tr>\n",
       "      <th>0</th>\n",
       "      <td>Aries, The Star shows your natural optimism is...</td>\n",
       "    </tr>\n",
       "    <tr>\n",
       "      <th>1</th>\n",
       "      <td>Aquarius, the Knight of Swords suggests you cu...</td>\n",
       "    </tr>\n",
       "    <tr>\n",
       "      <th>2</th>\n",
       "      <td>Cancer, you're being pulled in too many direct...</td>\n",
       "    </tr>\n",
       "    <tr>\n",
       "      <th>3</th>\n",
       "      <td>This Tower card, combined with your Leo fire, ...</td>\n",
       "    </tr>\n",
       "    <tr>\n",
       "      <th>4</th>\n",
       "      <td>With the Hanged Man suggesting a need for a ne...</td>\n",
       "    </tr>\n",
       "  </tbody>\n",
       "</table>\n",
       "</div>"
      ],
      "text/plain": [
       "                                             reading\n",
       "0  Aries, The Star shows your natural optimism is...\n",
       "1  Aquarius, the Knight of Swords suggests you cu...\n",
       "2  Cancer, you're being pulled in too many direct...\n",
       "3  This Tower card, combined with your Leo fire, ...\n",
       "4  With the Hanged Man suggesting a need for a ne..."
      ]
     },
     "execution_count": 4,
     "metadata": {},
     "output_type": "execute_result"
    }
   ],
   "source": [
    "merged_df.head()"
   ]
  },
  {
   "cell_type": "code",
   "execution_count": 5,
   "id": "2fe51332",
   "metadata": {},
   "outputs": [
    {
     "data": {
      "text/plain": [
       "(12147, 1)"
      ]
     },
     "execution_count": 5,
     "metadata": {},
     "output_type": "execute_result"
    }
   ],
   "source": [
    "merged_df.shape"
   ]
  },
  {
   "cell_type": "code",
   "execution_count": 6,
   "id": "3a20ae14",
   "metadata": {},
   "outputs": [
    {
     "data": {
      "text/plain": [
       "(12147, 1)"
      ]
     },
     "execution_count": 6,
     "metadata": {},
     "output_type": "execute_result"
    }
   ],
   "source": [
    "#remove duplicates\n",
    "merged_df = merged_df.drop_duplicates()\n",
    "merged_df.shape"
   ]
  },
  {
   "cell_type": "code",
   "execution_count": 7,
   "id": "c3b03782",
   "metadata": {},
   "outputs": [
    {
     "name": "stdout",
     "output_type": "stream",
     "text": [
      "reading\n",
      "Sagittarius, you're feeling the pressure of responsibilities (Ten of Wands), maybe from sticking to traditional expectations (The Hierophant).  Instead of getting overwhelmed, take some time to explore your options and prioritize what truly excites you (Seven of Cups)—you’ve got this.                                                                                        1\n",
      "Aries, The Star shows your natural optimism is trying to break through, but the Five of Cups has you stuck on past disappointments. The Page of Pentacles suggests a practical, grounded approach to learning something new will help you move forward and manifest the hopeful future The Star promises.                                                                            1\n",
      "Aquarius, the Knight of Swords suggests you cut through mental clutter to gain clarity, but the Ten of Wands reveals you may feel burdened by responsibilities related to this decision.  The Two of Wands, however, shows you have the power to choose your path and prioritize what truly matters for your overall happiness.                                                      1\n",
      "Judgement suggests you're ready for an honest self-assessment concerning this situation, Leo, and to move past old ways of thinking. The Page of Swords indicates a need to gather more information before acting impulsively, while the Knight of Pentacles reminds you to be practical and patient as you move forward with a new approach.                                        1\n",
      "Justice and the Hermit suggest you need to take some time alone, Gemini, to really reflect on what fairness means to you in this situation and act accordingly. The Ace of Cups reinforces this by indicating that a new emotional understanding of yourself, grounded in your values, will emerge from this period of introspection.                                                1\n",
      "                                                                                                                                                                                                                                                                                                                                                                                    ..\n",
      "Libra, the Queen of Swords suggests you're approaching this with a clear and decisive mind, but The Lovers indicates a difficult choice between two paths that truly resonate with you.  The Five of Pentacles reminds you that even when feeling isolated or lacking resources, your strength and resilience will ultimately guide you through.                                     1\n",
      "This Five of Cups shows you're dwelling on past disappointments, typical for Aquarius, but Justice indicates a fair outcome is coming if you take a leap of faith.  The Fool encourages you to embrace new beginnings and trust your intuition, even if it seems risky right now.                                                                                                    1\n",
      "This Eight of Cups, followed by The Chariot, suggests you need to leave a situation that's no longer fulfilling you, Aquarius, even if it feels comfortable. The Tower indicates this change will be sudden and disruptive, but ultimately necessary for your growth, so embrace it.                                                                                                 1\n",
      "With the Hanged Man suggesting a need for a new perspective, Aries, and your natural impulsiveness, it looks like you might need to slow down and wait for things to develop, like the farmer in the Seven of Pentacles tending his crop. The Ace of Cups indicates a fresh emotional start will come once you release control and find patience.                                    1\n",
      "This Tower card, combined with your Leo fire, indicates a much-needed change in your approach, likely involving a sudden shift in perspective. The Ace of Cups and Temperance suggest that embracing this disruption with emotional balance and acceptance will lead to new opportunities and inner harmony.  You'll land on your feet, Leo, just approach it with a steady hand.    1\n",
      "Name: count, Length: 12147, dtype: int64\n"
     ]
    }
   ],
   "source": [
    "#row counts in the merge_df\n",
    "print(merged_df['reading'].value_counts())"
   ]
  },
  {
   "cell_type": "code",
   "execution_count": 8,
   "id": "c626322b",
   "metadata": {},
   "outputs": [
    {
     "name": "stderr",
     "output_type": "stream",
     "text": [
      "c:\\Users\\Jue\\Desktop\\NLP_Fortune_Teller_Project\\.venv\\Lib\\site-packages\\tqdm\\auto.py:21: TqdmWarning: IProgress not found. Please update jupyter and ipywidgets. See https://ipywidgets.readthedocs.io/en/stable/user_install.html\n",
      "  from .autonotebook import tqdm as notebook_tqdm\n",
      "Asking to truncate to max_length but no maximum length is provided and the model has no predefined maximum length. Default to no truncation.\n"
     ]
    },
    {
     "name": "stdout",
     "output_type": "stream",
     "text": [
      "Sentiment analysis completed and saved to 'sentiment_output.csv'\n"
     ]
    }
   ],
   "source": [
    "import pandas as pd\n",
    "from transformers import AutoTokenizer, AutoModelForSequenceClassification\n",
    "import torch\n",
    "import torch.nn.functional as F\n",
    "\n",
    "# Load merged CSV\n",
    "df = merged_df\n",
    "\n",
    "# Load model & tokenizer\n",
    "model_name = \"cardiffnlp/twitter-roberta-base-sentiment\"\n",
    "tokenizer = AutoTokenizer.from_pretrained(model_name)\n",
    "model = AutoModelForSequenceClassification.from_pretrained(model_name)\n",
    "\n",
    "# Class labels for this model\n",
    "labels = ['negative', 'neutral', 'positive']\n",
    "\n",
    "# Inference function\n",
    "def get_sentiment(text):\n",
    "    tokens = tokenizer(text, return_tensors='pt', truncation=True)\n",
    "    with torch.no_grad():\n",
    "        output = model(**tokens)\n",
    "    probs = F.softmax(output.logits, dim=1)\n",
    "    return labels[probs.argmax().item()]\n",
    "\n",
    "# Apply sentiment analysis to each row\n",
    "df['sentiment'] = df['reading'].apply(get_sentiment)\n",
    "\n",
    "# Save the result\n",
    "df.to_csv('sentiment_reading_output.csv', index=False)\n",
    "print(\"Sentiment analysis completed and saved to 'sentiment_output.csv'\")\n"
   ]
  },
  {
   "cell_type": "code",
   "execution_count": 9,
   "id": "ccc6e170",
   "metadata": {},
   "outputs": [
    {
     "name": "stdout",
     "output_type": "stream",
     "text": [
      "sentiment\n",
      "positive    7153\n",
      "neutral     4739\n",
      "negative     255\n",
      "Name: count, dtype: int64\n"
     ]
    }
   ],
   "source": [
    "print(df['sentiment'].value_counts())\n"
   ]
  },
  {
   "cell_type": "code",
   "execution_count": 10,
   "id": "a8acb7d9",
   "metadata": {},
   "outputs": [
    {
     "data": {
      "text/plain": [
       "reading                                                                                                                                                                                                                                                                                                                                                                                     sentiment\n",
       "You’re feeling trapped by your own thoughts, Aquarius, and the Eight of Swords suggests you're limiting yourself unnecessarily. The Five and Knight of Wands show there's some healthy competition and exciting energy around you – embrace it and break free from these self-imposed restrictions, it's time to move forward with that Aquarian innovative spirit.                         positive     1\n",
       "An Aquarius, you're putting a lot of work into something long-term but the Page of Swords suggests you need to be more inquisitive and analytical about the process. The Five of Wands highlights some conflict or competition you'll need to address before the Seven of Pentacles' slow-growing investment bears fruit.                                                                   neutral      1\n",
       "Aquarius, Judgement suggests you're ready for an honest evaluation of this situation, and to move past old habits. The Page of Swords and Two of Swords indicate a need for clear communication and a decisive choice, even if it's uncomfortable.  You're capable of making the right call, even if it means a tough conversation.                                                         neutral      1\n",
       "You're shouldering a lot right now, Aries, almost to the point of burnout, and the Five and Nine of Swords show anxieties around lack and worry keeping you up at night. The Ten of Wands suggests you're trying to control too many things at once; delegate or drop some responsibilities to find relief and regain your footing.                                                         negative     1\n",
       "You're shouldering a lot right now, Aquarius, feeling the burden of responsibility shown by the Ten of Wands.  The Queen of Swords encourages you to use your intellect and clear thinking to make some tough decisions, even if the Seven of Swords suggests others might not understand or agree with your choices.                                                                       neutral      1\n",
       "                                                                                                                                                                                                                                                                                                                                                                                                        ..\n",
       "Aquarius, The Lovers suggests you're at a crossroads where a decision aligned with your values is key. The Seven of Pentacles shows that patience and continued effort towards your long-term goal will pay off, so don't get discouraged. The Star brings renewed hope and faith, confirming that you're on the right path and the universe supports your journey.                         positive     1\n",
       "Aquarius, The High Priestess suggests you trust your intuition on this, even if the answers aren't clear right now. Judgement indicates a period of reflection and reevaluation is needed before taking action, and Strength reminds you that you have the inner resources to navigate this with compassion and resolve.                                                                    neutral      1\n",
       "Aquarius, The High Priestess encourages you to trust your intuition regarding this situation, as you already hold the answers within. The Page of Pentacles suggests taking a practical, grounded approach to learning and exploring new possibilities, while the Six of Pentacles reminds you to be generous and share your resources, both material and emotional, as you navigate this.  positive     1\n",
       "Aquarius, The Emperor suggests you need to take control of this situation and establish some clear boundaries.  Paired with The Star and Five of Pentacles, this points towards a need for practical solutions and a renewed sense of hope after a period of hardship, even if things still feel uncertain.  You have the strength within you to build something better.                    positive     1\n",
       "Aquarius, Temperance suggests you need more balance in your approach to this, and the King of Pentacles reminds you of your natural practicality and resourcefulness.  With the Ace of Cups appearing, a new emotional beginning or creative surge can help you achieve the stability you crave in this situation.                                                                          positive     1\n",
       "Name: count, Length: 12147, dtype: int64"
      ]
     },
     "execution_count": 10,
     "metadata": {},
     "output_type": "execute_result"
    }
   ],
   "source": [
    "df.value_counts()"
   ]
  },
  {
   "cell_type": "code",
   "execution_count": 11,
   "id": "a9038405",
   "metadata": {},
   "outputs": [
    {
     "data": {
      "text/plain": [
       "np.int64(0)"
      ]
     },
     "execution_count": 11,
     "metadata": {},
     "output_type": "execute_result"
    }
   ],
   "source": [
    "#check duplicate\n",
    "df.duplicated().sum()"
   ]
  },
  {
   "cell_type": "code",
   "execution_count": null,
   "id": "368a6417",
   "metadata": {},
   "outputs": [],
   "source": []
  }
 ],
 "metadata": {
  "kernelspec": {
   "display_name": ".venv",
   "language": "python",
   "name": "python3"
  },
  "language_info": {
   "codemirror_mode": {
    "name": "ipython",
    "version": 3
   },
   "file_extension": ".py",
   "mimetype": "text/x-python",
   "name": "python",
   "nbconvert_exporter": "python",
   "pygments_lexer": "ipython3",
   "version": "3.11.9"
  }
 },
 "nbformat": 4,
 "nbformat_minor": 5
}
